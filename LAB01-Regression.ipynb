{
 "cells": [
  {
   "cell_type": "markdown",
   "metadata": {},
   "source": [
    "Sveučilište u Zagrebu  \n",
    "Fakultet elektrotehnike i računarstva  \n",
    "  \n",
    "## Strojno učenje 2017/2018  \n",
    "http://www.fer.unizg.hr/predmet/su"
   ]
  },
  {
   "cell_type": "markdown",
   "metadata": {},
   "source": [
    "------------------------------\n",
    "\n",
    "### Laboratorijska vježba 1: Regresija\n",
    "\n",
    "*Verzija: 1.1  \n",
    "Zadnji put ažurirano: 16. listopada 2017.*\n",
    "\n",
    "(c) 2015-2017 Jan Šnajder, Domagoj Alagić, Mladen Karan \n",
    "\n",
    "Objavljeno: **16. listopada 2017.**  \n",
    "Rok za predaju: **23. listopada 2017. u 07:00h**\n",
    "\n",
    "------------------------------"
   ]
  },
  {
   "cell_type": "markdown",
   "metadata": {},
   "source": [
    "### Upute\n",
    "\n",
    "Prva laboratorijska vježba sastoji se od osam zadataka. U nastavku slijedite upute navedene u ćelijama s tekstom. Rješavanje vježbe svodi se na **dopunjavanje ove bilježnice**: umetanja ćelije ili više njih **ispod** teksta zadatka, pisanja odgovarajućeg kôda te evaluiranja ćelija. \n",
    "\n",
    "Osigurajte da u potpunosti **razumijete** kôd koji ste napisali. Kod predaje vježbe, morate biti u stanju na zahtjev asistenta (ili demonstratora) preinačiti i ponovno evaluirati Vaš kôd. Nadalje, morate razumjeti teorijske osnove onoga što radite, u okvirima onoga što smo obradili na predavanju. Ispod nekih zadataka možete naći i pitanja koja služe kao smjernice za bolje razumijevanje gradiva (**nemojte pisati** odgovore na pitanja u bilježnicu). Stoga se nemojte ograničiti samo na to da riješite zadatak, nego slobodno eksperimentirajte. To upravo i jest svrha ovih vježbi.\n",
    "\n",
    "Vježbe trebate raditi **samostalno**. Možete se konzultirati s drugima o načelnom načinu rješavanja, ali u konačnici morate sami odraditi vježbu. U protivnome vježba nema smisla."
   ]
  },
  {
   "cell_type": "code",
   "execution_count": 29,
   "metadata": {},
   "outputs": [
    {
     "name": "stdout",
     "output_type": "stream",
     "text": [
      "Populating the interactive namespace from numpy and matplotlib\n"
     ]
    },
    {
     "name": "stderr",
     "output_type": "stream",
     "text": [
      "/home/nameless/anaconda3/lib/python3.6/site-packages/IPython/core/magics/pylab.py:160: UserWarning: pylab import has clobbered these variables: ['f', 'poly']\n",
      "`%matplotlib` prevents importing * from pylab and numpy\n",
      "  \"\\n`%matplotlib` prevents importing * from pylab and numpy\"\n"
     ]
    }
   ],
   "source": [
    "# Učitaj osnovne biblioteke...\n",
    "import numpy as np\n",
    "import sklearn\n",
    "import matplotlib.pyplot as plt\n",
    "%pylab inline"
   ]
  },
  {
   "cell_type": "markdown",
   "metadata": {},
   "source": [
    "## Zadatci"
   ]
  },
  {
   "cell_type": "markdown",
   "metadata": {},
   "source": [
    "### 1. Jednostavna regresija"
   ]
  },
  {
   "cell_type": "markdown",
   "metadata": {},
   "source": [
    "Zadan je skup primjera $\\mathcal{D}=\\{(x^{(i)},y^{(i)})\\}_{i=1}^4 = \\{(0,4),(1,1),(2,2),(4,5)\\}$. Primjere predstavite matrixom $\\mathbf{X}$ dimenzija $N\\times n$ (u ovom slučaju $4\\times 1$) i vektorom oznaka $\\textbf{y}$, dimenzija $N\\times 1$ (u ovom slučaju $4\\times 1$), na sljedeći način:\n"
   ]
  },
  {
   "cell_type": "code",
   "execution_count": 32,
   "metadata": {
    "collapsed": true
   },
   "outputs": [],
   "source": [
    "X = np.array([[0],[1],[2],[4]])\n",
    "y = np.array([4,1,2,5])"
   ]
  },
  {
   "cell_type": "markdown",
   "metadata": {},
   "source": [
    "#### (a)\n",
    "\n",
    "Proučite funkciju [`PolynomialFeatures`](http://scikit-learn.org/stable/modules/generated/sklearn.preprocessing.PolynomialFeatures.html) iz biblioteke `sklearn` i upotrijebite je za generiranje matrice dizajna $\\mathbf{\\Phi}$ koja ne koristi preslikavanje u prostor više dimenzije (samo će svakom primjeru biti dodane *dummy* jedinice; $m=n+1$).\n"
   ]
  },
  {
   "cell_type": "code",
   "execution_count": 33,
   "metadata": {},
   "outputs": [
    {
     "name": "stdout",
     "output_type": "stream",
     "text": [
      "[[ 1.  0.]\n",
      " [ 1.  1.]\n",
      " [ 1.  2.]\n",
      " [ 1.  4.]]\n"
     ]
    }
   ],
   "source": [
    "from sklearn.preprocessing import PolynomialFeatures\n",
    "poly = PolynomialFeatures(1)\n",
    "XD = poly.fit_transform(X)\n",
    "print(XD)"
   ]
  },
  {
   "cell_type": "markdown",
   "metadata": {},
   "source": [
    "#### (b)"
   ]
  },
  {
   "cell_type": "markdown",
   "metadata": {},
   "source": [
    "Upoznajte se s modulom [`linalg`](http://docs.scipy.org/doc/numpy/reference/routines.linalg.html). Izračunajte težine $\\mathbf{w}$ modela linearne regresije kao $\\mathbf{w}=(\\mathbf{\\Phi}^\\intercal\\mathbf{\\Phi})^{-1}\\mathbf{\\Phi}^\\intercal\\mathbf{y}$. Zatim se uvjerite da isti rezultat možete dobiti izračunom pseudoinverza $\\mathbf{\\Phi}^+$ matrice dizajna, tj. $\\mathbf{w}=\\mathbf{\\Phi}^+\\mathbf{y}$, korištenjem funkcije [`pinv`](http://docs.scipy.org/doc/numpy/reference/generated/numpy.linalg.pinv.html)."
   ]
  },
  {
   "cell_type": "code",
   "execution_count": 34,
   "metadata": {
    "collapsed": true
   },
   "outputs": [],
   "source": [
    "from numpy import linalg"
   ]
  },
  {
   "cell_type": "code",
   "execution_count": 35,
   "metadata": {},
   "outputs": [
    {
     "name": "stdout",
     "output_type": "stream",
     "text": [
      "[[ 0.6         0.4         0.2        -0.2       ]\n",
      " [-0.2        -0.08571429  0.02857143  0.25714286]]\n"
     ]
    }
   ],
   "source": [
    "gram = dot(XD.transpose(), XD)\n",
    "psi1 = dot(inv(gram), XD.transpose())\n",
    "psi2 = pinv(XD)\n",
    "print(psi1)"
   ]
  },
  {
   "cell_type": "code",
   "execution_count": 36,
   "metadata": {},
   "outputs": [
    {
     "name": "stdout",
     "output_type": "stream",
     "text": [
      "[[ 0.6         0.4         0.2        -0.2       ]\n",
      " [-0.2        -0.08571429  0.02857143  0.25714286]]\n"
     ]
    }
   ],
   "source": [
    "psi2 = pinv(XD)\n",
    "print(psi2)"
   ]
  },
  {
   "cell_type": "markdown",
   "metadata": {},
   "source": [
    "Radi jasnoće, u nastavku je vektor $\\mathbf{x}$ s dodanom *dummy* jedinicom $x_0=1$ označen kao $\\tilde{\\mathbf{x}}$."
   ]
  },
  {
   "cell_type": "markdown",
   "metadata": {},
   "source": [
    "#### (c)"
   ]
  },
  {
   "cell_type": "markdown",
   "metadata": {},
   "source": [
    "Prikažite primjere iz $\\mathcal{D}$ i funkciju $h(\\tilde{\\mathbf{x}})=\\mathbf{w}^\\intercal\\tilde{\\mathbf{x}}$. Izračunajte pogrešku učenja prema izrazu $E(h|\\mathcal{D})=\\frac{1}{2}\\sum_{i=1}^N(\\tilde{\\mathbf{x}}^{(i)} - h(\\tilde{\\mathbf{x}}))^2$. Možete koristiti funkciju srednje kvadratne pogreške [`mean_squared_error`]( http://scikit-learn.org/stable/modules/generated/sklearn.metrics.mean_squared_error.html#sklearn.metrics.mean_squared_error) iz modula [`sklearn.metrics`](http://scikit-learn.org/stable/modules/classes.html#module-sklearn.metrics).\n",
    "\n",
    "**Q:** Gore definirana funkcija pogreške $E(h|\\mathcal{D})$ i funkcija srednje kvadratne pogreške nisu posve identične. U čemu je razlika? Koja je \"realnija\"?"
   ]
  },
  {
   "cell_type": "code",
   "execution_count": 37,
   "metadata": {},
   "outputs": [
    {
     "data": {
      "text/plain": [
       "[<matplotlib.lines.Line2D at 0x7f673caeeb00>,\n",
       " <matplotlib.lines.Line2D at 0x7f673caeecc0>]"
      ]
     },
     "execution_count": 37,
     "metadata": {},
     "output_type": "execute_result"
    },
    {
     "data": {
      "image/png": "[encoded data removed]",
      "text/plain": [
       "<matplotlib.figure.Figure at 0x7f673cb92198>"
      ]
     },
     "metadata": {},
     "output_type": "display_data"
    }
   ],
   "source": [
    "W = dot(psi2, y)\n",
    "def f(x): return W[0] + W[1]*x\n",
    "space = linspace(-2, 8, 50)\n",
    "values = f(space)\n",
    "plt.plot(space, values, 'b', X, y, 'r+')"
   ]
  },
  {
   "cell_type": "code",
   "execution_count": 38,
   "metadata": {},
   "outputs": [
    {
     "name": "stdout",
     "output_type": "stream",
     "text": [
      "2.04285714286\n"
     ]
    }
   ],
   "source": [
    "from sklearn.metrics import mean_squared_error\n",
    "y_pred = dot(XD, W.transpose())\n",
    "err = mean_squared_error(y, y_pred)\n",
    "print(err)"
   ]
  },
  {
   "cell_type": "markdown",
   "metadata": {},
   "source": [
    "#### (d)"
   ]
  },
  {
   "cell_type": "markdown",
   "metadata": {},
   "source": [
    "Uvjerite se da za primjere iz $\\mathcal{D}$ težine $\\mathbf{w}$ ne možemo naći rješavanjem sustava $\\mathbf{w}=\\mathbf{\\Phi}^{-1}\\mathbf{y}$, već da nam doista treba pseudoinverz.\n",
    "\n",
    "**Q:** Zašto je to slučaj? Bi li se problem mogao riješiti preslikavanjem primjera u višu dimenziju? Ako da, bi li to uvijek funkcioniralo, neovisno o skupu primjera $\\mathcal{D}$? Pokažite na primjeru."
   ]
  },
  {
   "cell_type": "code",
   "execution_count": 39,
   "metadata": {},
   "outputs": [
    {
     "ename": "LinAlgError",
     "evalue": "Last 2 dimensions of the array must be square",
     "output_type": "error",
     "traceback": [
      "\u001b[0;31m---------------------------------------------------------------------------\u001b[0m",
      "\u001b[0;31mLinAlgError\u001b[0m                               Traceback (most recent call last)",
      "\u001b[0;32m<ipython-input-39-9699d4178b4f>\u001b[0m in \u001b[0;36m<module>\u001b[0;34m()\u001b[0m\n\u001b[0;32m----> 1\u001b[0;31m \u001b[0mprint\u001b[0m\u001b[0;34m(\u001b[0m\u001b[0mdot\u001b[0m\u001b[0;34m(\u001b[0m\u001b[0minv\u001b[0m\u001b[0;34m(\u001b[0m\u001b[0mXD\u001b[0m\u001b[0;34m)\u001b[0m\u001b[0;34m,\u001b[0m \u001b[0my\u001b[0m\u001b[0;34m)\u001b[0m\u001b[0;34m)\u001b[0m\u001b[0;34m\u001b[0m\u001b[0m\n\u001b[0m",
      "\u001b[0;32m~/anaconda3/lib/python3.6/site-packages/numpy/linalg/linalg.py\u001b[0m in \u001b[0;36minv\u001b[0;34m(a)\u001b[0m\n\u001b[1;32m    506\u001b[0m     \u001b[0ma\u001b[0m\u001b[0;34m,\u001b[0m \u001b[0mwrap\u001b[0m \u001b[0;34m=\u001b[0m \u001b[0m_makearray\u001b[0m\u001b[0;34m(\u001b[0m\u001b[0ma\u001b[0m\u001b[0;34m)\u001b[0m\u001b[0;34m\u001b[0m\u001b[0m\n\u001b[1;32m    507\u001b[0m     \u001b[0m_assertRankAtLeast2\u001b[0m\u001b[0;34m(\u001b[0m\u001b[0ma\u001b[0m\u001b[0;34m)\u001b[0m\u001b[0;34m\u001b[0m\u001b[0m\n\u001b[0;32m--> 508\u001b[0;31m     \u001b[0m_assertNdSquareness\u001b[0m\u001b[0;34m(\u001b[0m\u001b[0ma\u001b[0m\u001b[0;34m)\u001b[0m\u001b[0;34m\u001b[0m\u001b[0m\n\u001b[0m\u001b[1;32m    509\u001b[0m     \u001b[0mt\u001b[0m\u001b[0;34m,\u001b[0m \u001b[0mresult_t\u001b[0m \u001b[0;34m=\u001b[0m \u001b[0m_commonType\u001b[0m\u001b[0;34m(\u001b[0m\u001b[0ma\u001b[0m\u001b[0;34m)\u001b[0m\u001b[0;34m\u001b[0m\u001b[0m\n\u001b[1;32m    510\u001b[0m \u001b[0;34m\u001b[0m\u001b[0m\n",
      "\u001b[0;32m~/anaconda3/lib/python3.6/site-packages/numpy/linalg/linalg.py\u001b[0m in \u001b[0;36m_assertNdSquareness\u001b[0;34m(*arrays)\u001b[0m\n\u001b[1;32m    210\u001b[0m     \u001b[0;32mfor\u001b[0m \u001b[0ma\u001b[0m \u001b[0;32min\u001b[0m \u001b[0marrays\u001b[0m\u001b[0;34m:\u001b[0m\u001b[0;34m\u001b[0m\u001b[0m\n\u001b[1;32m    211\u001b[0m         \u001b[0;32mif\u001b[0m \u001b[0mmax\u001b[0m\u001b[0;34m(\u001b[0m\u001b[0ma\u001b[0m\u001b[0;34m.\u001b[0m\u001b[0mshape\u001b[0m\u001b[0;34m[\u001b[0m\u001b[0;34m-\u001b[0m\u001b[0;36m2\u001b[0m\u001b[0;34m:\u001b[0m\u001b[0;34m]\u001b[0m\u001b[0;34m)\u001b[0m \u001b[0;34m!=\u001b[0m \u001b[0mmin\u001b[0m\u001b[0;34m(\u001b[0m\u001b[0ma\u001b[0m\u001b[0;34m.\u001b[0m\u001b[0mshape\u001b[0m\u001b[0;34m[\u001b[0m\u001b[0;34m-\u001b[0m\u001b[0;36m2\u001b[0m\u001b[0;34m:\u001b[0m\u001b[0;34m]\u001b[0m\u001b[0;34m)\u001b[0m\u001b[0;34m:\u001b[0m\u001b[0;34m\u001b[0m\u001b[0m\n\u001b[0;32m--> 212\u001b[0;31m             \u001b[0;32mraise\u001b[0m \u001b[0mLinAlgError\u001b[0m\u001b[0;34m(\u001b[0m\u001b[0;34m'Last 2 dimensions of the array must be square'\u001b[0m\u001b[0;34m)\u001b[0m\u001b[0;34m\u001b[0m\u001b[0m\n\u001b[0m\u001b[1;32m    213\u001b[0m \u001b[0;34m\u001b[0m\u001b[0m\n\u001b[1;32m    214\u001b[0m \u001b[0;32mdef\u001b[0m \u001b[0m_assertFinite\u001b[0m\u001b[0;34m(\u001b[0m\u001b[0;34m*\u001b[0m\u001b[0marrays\u001b[0m\u001b[0;34m)\u001b[0m\u001b[0;34m:\u001b[0m\u001b[0;34m\u001b[0m\u001b[0m\n",
      "\u001b[0;31mLinAlgError\u001b[0m: Last 2 dimensions of the array must be square"
     ]
    }
   ],
   "source": [
    "print(dot(inv(XD), y))"
   ]
  },
  {
   "cell_type": "markdown",
   "metadata": {},
   "source": [
    "#### (e) "
   ]
  },
  {
   "cell_type": "markdown",
   "metadata": {},
   "source": [
    "Proučite klasu [`LinearRegression`](http://scikit-learn.org/stable/modules/generated/sklearn.linear_model.LinearRegression.html#sklearn.linear_model.LinearRegression) iz modula [`sklearn.linear_model`](http://scikit-learn.org/stable/modules/classes.html#module-sklearn.linear_model). Uvjerite se da su težine koje izračunava ta funkcija (dostupne pomoću atributa `coef_` i `intercept_`) jednake onima koje ste izračunali gore. Izračunajte predikcije modela (metoda `predict`) i uvjerite se da je pogreška učenja identična onoj koju ste ranije izračunali."
   ]
  },
  {
   "cell_type": "code",
   "execution_count": 40,
   "metadata": {},
   "outputs": [
    {
     "name": "stdout",
     "output_type": "stream",
     "text": [
      "2.2 [ 0.45714286]\n",
      "[ 2.2         0.45714286]\n",
      "[ 2.2         2.65714286  3.11428571  4.02857143]\n"
     ]
    }
   ],
   "source": [
    "from sklearn.linear_model import LinearRegression\n",
    "lr = LinearRegression()\n",
    "lr.fit(X, y)\n",
    "print (lr.intercept_, lr.coef_)\n",
    "print (W)\n",
    "print(lr.predict(X))"
   ]
  },
  {
   "cell_type": "markdown",
   "metadata": {},
   "source": [
    "### 2. Polinomijalna regresija i utjecaj šuma"
   ]
  },
  {
   "cell_type": "markdown",
   "metadata": {},
   "source": [
    "#### (a)\n",
    "\n",
    "Razmotrimo sada regresiju na većem broju primjera. Koristite funkciju `make_labels(X, f, noise=0)` koja uzima matricu neoznačenih primjera $\\mathbf{X}_{N\\times n}$ te generira vektor njihovih oznaka $\\mathbf{y}_{N\\times 1}$. Oznake se generiraju kao $y^{(i)} = f(x^{(i)})+\\mathcal{N}(0,\\sigma^2)$, gdje je $f:\\mathbb{R}^n\\to\\mathbb{R}$ stvarna funkcija koja je generirala podatke (koja nam je u stvarnosti nepoznata), a $\\sigma$ je standardna devijacija Gaussovog šuma, definirana parametrom `noise`. Za generiranje šuma koristi se funkcija [`numpy.random.normal`](http://docs.scipy.org/doc/numpy/reference/generated/numpy.random.normal.html). \n",
    "\n",
    "Generirajte skup za učenje od $N=50$ primjera uniformno distribuiranih u intervalu $[-5,5]$ pomoću funkcije $f(x) = 5 + x -2 x^2 -5 x^3$ uz šum  $\\sigma=200$:"
   ]
  },
  {
   "cell_type": "code",
   "execution_count": 41,
   "metadata": {
    "collapsed": true
   },
   "outputs": [],
   "source": [
    "from numpy.random import normal\n",
    "def make_labels(X, f, noise=0) :\n",
    "    return map(lambda x : f(x) + (normal(0,noise) if noise>0 else 0), X)"
   ]
  },
  {
   "cell_type": "code",
   "execution_count": 42,
   "metadata": {
    "collapsed": true
   },
   "outputs": [],
   "source": [
    "def make_instances(x1, x2, N) :\n",
    "    return np.array([np.array([x]) for x in np.linspace(x1,x2,N)])"
   ]
  },
  {
   "cell_type": "code",
   "execution_count": 43,
   "metadata": {},
   "outputs": [
    {
     "name": "stdout",
     "output_type": "stream",
     "text": [
      "[[ 415.38369277  605.71121859  229.59453596  270.64277719  -87.83896875\n",
      "   258.60574568  321.80393742  -70.82594647  143.3025839   437.72628951\n",
      "   -55.96312757  -59.22547597  248.71583194  531.58892713  198.00766413\n",
      "  -257.35895271   95.84246791 -106.13139564  -21.94612798 -445.18274238\n",
      "  -345.81267611  -60.7023181   196.07161616  -92.35277453   68.65775332\n",
      "  -561.03010966  364.40912025   63.71191143  -51.90032182   74.0636204\n",
      "   -99.72238064  175.69513477  218.16115867  363.44078124  301.01137948\n",
      "  -198.61603908   90.50888017  298.54575186  -88.63135731   62.18189953\n",
      "  -186.32410116  -78.71187305 -130.06264092 -283.55206701 -106.20999737\n",
      "  -482.07311536 -420.14266289 -459.82734006 -457.50422799 -630.26330963]]\n"
     ]
    }
   ],
   "source": [
    "X = make_instances(-5, 5, 50)\n",
    "def function(x):\n",
    "    return 5 + x - 2*np.power(x, 2) - 5*np.power(x, 3)\n",
    "y = make_labels(X, function, 200)\n",
    "y = np.array(list(y))\n",
    "print(y.transpose())"
   ]
  },
  {
   "cell_type": "markdown",
   "metadata": {},
   "source": [
    "Prikažite taj skup funkcijom [`scatter`](http://matplotlib.org/api/pyplot_api.html#matplotlib.pyplot.scatter)."
   ]
  },
  {
   "cell_type": "code",
   "execution_count": 44,
   "metadata": {},
   "outputs": [
    {
     "data": {
      "image/png": "[encoded data removed]",
      "text/plain": [
       "<matplotlib.figure.Figure at 0x7f673aabf978>"
      ]
     },
     "metadata": {},
     "output_type": "display_data"
    }
   ],
   "source": [
    "plt.scatter(X, y)\n",
    "plt.show()"
   ]
  },
  {
   "cell_type": "markdown",
   "metadata": {},
   "source": [
    "#### (b)"
   ]
  },
  {
   "cell_type": "markdown",
   "metadata": {},
   "source": [
    "Trenirajte model polinomijalne regresije stupnja $d=3$. Na istom grafikonu prikažite naučeni model $h(\\mathbf{x})=\\mathbf{w}^\\intercal\\tilde{\\mathbf{x}}$ i primjere za učenje. Izračunajte pogrešku učenja modela."
   ]
  },
  {
   "cell_type": "code",
   "execution_count": 45,
   "metadata": {},
   "outputs": [
    {
     "name": "stdout",
     "output_type": "stream",
     "text": [
      "Pogreška učenja modela: 43065.8628428\n"
     ]
    },
    {
     "data": {
      "image/png": "[encoded data removed]",
      "text/plain": [
       "<matplotlib.figure.Figure at 0x7f673aa777f0>"
      ]
     },
     "metadata": {},
     "output_type": "display_data"
    }
   ],
   "source": [
    "pf = PolynomialFeatures(3)\n",
    "design = pf.fit_transform(X)\n",
    "W = dot(pinv(design), y)\n",
    "y_pred = dot(design, W)\n",
    "err = mean_squared_error(y, y_pred)\n",
    "print(\"Pogreška učenja modela: \" + str(err))\n",
    "plt.plot(X, y_pred, 'r')\n",
    "plt.scatter(X, y)\n",
    "plt.show()"
   ]
  },
  {
   "cell_type": "markdown",
   "metadata": {},
   "source": [
    "### 3. Odabir modela"
   ]
  },
  {
   "cell_type": "markdown",
   "metadata": {},
   "source": [
    "#### (a)\n",
    "\n",
    "Na skupu podataka iz zadatka 2 trenirajte pet modela linearne regresije $\\mathcal{H}_d$ različite složenosti, gdje je $d$ stupanj polinoma, $d\\in\\{1,3,5,10,20\\}$. Prikažite na istome grafikonu skup za učenje i funkcije $h_d(\\mathbf{x})$ za svih pet modela (preporučujemo koristiti `plot` unutar `for` petlje). Izračunajte pogrešku učenja svakog od modela.\n",
    "\n",
    "**Q:** Koji model ima najmanju pogrešku učenja i zašto?"
   ]
  },
  {
   "cell_type": "code",
   "execution_count": 46,
   "metadata": {},
   "outputs": [
    {
     "name": "stdout",
     "output_type": "stream",
     "text": [
      "Pogreška učenja modela stupnja polinoma 1: 59217.8603421\n",
      "Pogreška učenja modela stupnja polinoma 3: 43065.8628428\n",
      "Pogreška učenja modela stupnja polinoma 5: 41157.1201943\n",
      "Pogreška učenja modela stupnja polinoma 10: 35120.4807954\n",
      "Pogreška učenja modela stupnja polinoma 20: 31342.6221107\n"
     ]
    },
    {
     "data": {
      "image/png": "[encoded data removed]",
      "text/plain": [
       "<matplotlib.figure.Figure at 0x7f673a9fc630>"
      ]
     },
     "metadata": {},
     "output_type": "display_data"
    }
   ],
   "source": [
    "for i in [1, 3, 5, 10, 20]:\n",
    "    pfi = PolynomialFeatures(i)\n",
    "    designi = pfi.fit_transform(X) \n",
    "    Wi = dot(pinv(designi), y)\n",
    "    y_predi = dot(designi, Wi)\n",
    "    print(\"Pogreška učenja modela stupnja polinoma \"+str(i)+ \": \"+ str(mean_squared_error(y, y_predi)))\n",
    "    plt.plot(X, y_predi, label=\"d=\"+str(i))\n",
    "\n",
    "plt.scatter(X, y)\n",
    "plt.legend(loc=\"best\")\n",
    "plt.show()"
   ]
  },
  {
   "cell_type": "markdown",
   "metadata": {},
   "source": [
    "#### (b)"
   ]
  },
  {
   "cell_type": "markdown",
   "metadata": {},
   "source": [
    "Razdvojite skup primjera iz zadatka 2 pomoću funkcije [`cross_validation.train_test_split`](http://scikit-learn.org/stable/modules/generated/sklearn.cross_validation.train_test_split.html#sklearn.cross_validation.train_test_split) na skup za učenja i skup za ispitivanje u omjeru 1:1. Prikažite na jednom grafikonu pogrešku učenja i ispitnu pogrešku za modele polinomijalne regresije $\\mathcal{H}_d$, sa stupnjem polinoma $d$ u rasponu $d\\in [1,2,\\ldots,20]$. Radi preciznosti, funkcije $h(\\mathbf{x})$ iscrtajte na cijelom skupu primjera (ali pogrešku generalizacije računajte, naravno, samo na ispitnome skupu). Budući da kvadratna pogreška brzo raste za veće stupnjeve polinoma, umjesto da iscrtate izravno iznose pogrešaka, iscrtajte njihove logaritme.\n",
    "\n",
    "**NB:** Podjela na skupa za učenje i skup za ispitivanje mora za svih pet modela biti identična.\n",
    "\n",
    "**Q:** Je li rezultat u skladu s očekivanjima? Koji biste model odabrali i zašto?\n",
    "\n",
    "**Q:** Pokrenite iscrtavanje više puta. U čemu je problem? Bi li problem bio jednako izražen kad bismo imali više primjera? Zašto?"
   ]
  },
  {
   "cell_type": "code",
   "execution_count": 47,
   "metadata": {
    "collapsed": true
   },
   "outputs": [],
   "source": [
    "from sklearn.model_selection import train_test_split"
   ]
  },
  {
   "cell_type": "code",
   "execution_count": 48,
   "metadata": {},
   "outputs": [
    {
     "data": {
      "image/png": "[encoded data removed]",
      "text/plain": [
       "<matplotlib.figure.Figure at 0x7f673a4419e8>"
      ]
     },
     "metadata": {},
     "output_type": "display_data"
    }
   ],
   "source": [
    "X_train, X_test, y_train, y_test = train_test_split(X, y, test_size=0.5)\n",
    "train_err = []\n",
    "test_err = []\n",
    "for i in range(1, 21, 1):\n",
    "    pfi = PolynomialFeatures(i)\n",
    "    designi = pfi.fit_transform(X_train) \n",
    "    Wi = dot(pinv(designi), y_train)\n",
    "    y_pred_train = dot(designi, Wi)\n",
    "    y_pred_test = dot(pfi.fit_transform(X_test), Wi)\n",
    "    train_err.append(np.log(mean_squared_error(y_train, y_pred_train)))\n",
    "    test_err.append(np.log(mean_squared_error(y_test, y_pred_test)))\n",
    "plt.plot(range(1, 21, 1), train_err, \"r+\", label=\"Train error\")\n",
    "plt.plot(range(1, 21, 1), test_err, \"b+\", label=\"Test error\")\n",
    "plt.xlabel(\"stupanj polinoma\")\n",
    "plt.ylabel(\"log(pogreška)\")\n",
    "plt.legend(loc=\"best\")\n",
    "plt.show()"
   ]
  },
  {
   "cell_type": "markdown",
   "metadata": {},
   "source": [
    "#### (c)"
   ]
  },
  {
   "cell_type": "markdown",
   "metadata": {},
   "source": [
    "Točnost modela ovisi o (1) njegovoj složenosti (stupanj $d$ polinoma), (2) broju primjera $N$, i (3) količini šuma. Kako biste to analizirali, nacrtajte grafikone pogrešaka kao u 3b, ali za sve kombinacija broja primjera $N\\in\\{100,200,1000\\}$ i količine šuma $\\sigma\\in\\{100,200,500\\}$ (ukupno 9 grafikona). Upotrijebite funkciju [`subplots`](http://matplotlib.org/examples/pylab_examples/subplots_demo.html) kako biste pregledno posložili grafikone u tablicu $3\\times 3$. Podatci se generiraju na isti način kao u zadatku 2.\n",
    "\n",
    "**NB:** Pobrinite se da svi grafikoni budu generirani nad usporedivim skupovima podataka, na sljedeći način. Generirajte najprije svih 1000 primjera, podijelite ih na skupove za učenje i skupove za ispitivanje (dva skupa od po 500 primjera). Zatim i od skupa za učenje i od skupa za ispitivanje načinite tri različite verzije, svaka s drugačijom količinom šuma (ukupno 2x3=6 verzija podataka). Kako bi simulirali veličinu skupa podataka, od tih dobivenih 6 skupova podataka uzorkujte trećinu, dvije trećine i sve podatke. Time ste dobili 18 skupova podataka -- skup za učenje i za testiranje za svaki od devet grafova."
   ]
  },
  {
   "cell_type": "markdown",
   "metadata": {},
   "source": [
    "***Q:*** Jesu li rezultati očekivani? Obrazložite."
   ]
  },
  {
   "cell_type": "code",
   "execution_count": 49,
   "metadata": {},
   "outputs": [
    {
     "data": {
      "image/png": "[encoded data removed]",
      "text/plain": [
       "<matplotlib.figure.Figure at 0x7f673a441828>"
      ]
     },
     "metadata": {},
     "output_type": "display_data"
    }
   ],
   "source": [
    "original_X = make_instances(-5, 5, 1000)\n",
    "X_train, X_test = train_test_split(X, test_size=0.5)\n",
    "def function(x):\n",
    "    return 5 + x - 2*np.power(x, 2) - 5*np.power(x, 3)\n",
    "y_train_100s = np.array(list(make_labels(X_train, function, 100)))\n",
    "y_train_200s = np.array(list(make_labels(X_train, function, 200)))\n",
    "y_train_500s = np.array(list(make_labels(X_train, function, 500)))\n",
    "y_test_100s = np.array(list(make_labels(X_test, function, 100)))\n",
    "y_test_200s = np.array(list(make_labels(X_test, function, 200)))\n",
    "y_test_500s = np.array(list(make_labels(X_test, function, 500)))\n",
    "\n",
    "X_train_100N_100s, d1, y_train_100N_100s, d2 = train_test_split(X_train, y_train_100s, test_size=0.1)\n",
    "X_train_200N_100s, d1, y_train_200N_100s, d2 = train_test_split(X_train, y_train_100s, test_size=0.2)\n",
    "X_train_100N_200s, d1, y_train_100N_200s, d2 = train_test_split(X_train, y_train_200s, test_size=0.1)\n",
    "X_train_200N_200s, d1, y_train_200N_200s, d2 = train_test_split(X_train, y_train_200s, test_size=0.2)\n",
    "X_train_100N_500s, d1, y_train_100N_500s, d2 = train_test_split(X_train, y_train_500s, test_size=0.1)\n",
    "X_train_200N_500s, d1, y_train_200N_500s, d2 = train_test_split(X_train, y_train_500s, test_size=0.2)\n",
    "\n",
    "X_test_100N_100s, d1, y_test_100N_100s, d2 = train_test_split(X_test, y_test_100s, test_size=0.1)\n",
    "X_test_200N_100s, d1, y_test_200N_100s, d2 = train_test_split(X_test, y_test_100s, test_size=0.2)\n",
    "X_test_100N_200s, d1, y_test_100N_200s, d2 = train_test_split(X_test, y_test_200s, test_size=0.1)\n",
    "X_test_200N_200s, d1, y_test_200N_200s, d2 = train_test_split(X_test, y_test_200s, test_size=0.2)\n",
    "X_test_100N_500s, d1, y_test_100N_500s, d2 = train_test_split(X_test, y_test_500s, test_size=0.1)\n",
    "X_test_200N_500s, d1, y_test_200N_500s, d2 = train_test_split(X_test, y_test_500s, test_size=0.2)\n",
    "\n",
    "plt.figure(figsize=(15, 15))\n",
    "graf_index = 1\n",
    "label_list = [\"1000N 100S\", \"1000N 200S\", \"1000N 500S\", \"100N 100S\", \"200N 100S\", \"100N 200S\", \"200N 200S\", \"100N 500S\", \"200N 500S\"]\n",
    "for xtrain, ytrain, xtest, ytest in zip([X_train, X_train, X_train, X_train_100N_100s, X_train_200N_100s, X_train_100N_200s, X_train_200N_200s, X_train_100N_500s, X_train_200N_500s],\n",
    "                                        [y_train_100s, y_train_200s, y_train_500s, y_train_100N_100s, y_train_200N_100s, y_train_100N_200s, y_train_200N_200s, y_train_100N_500s, y_train_200N_500s], \n",
    "                                        [X_test, X_test, X_test, X_test_100N_100s, X_test_200N_100s, X_test_100N_200s, X_test_200N_200s, X_test_100N_500s, X_test_200N_500s], \n",
    "                                        [y_test_100s, y_test_200s, y_test_500s,y_test_100N_100s, y_test_200N_100s, y_test_100N_200s, y_test_200N_200s, y_test_100N_500s, y_test_200N_500s]):  \n",
    "    train_err = []\n",
    "    test_err = []\n",
    "    for i in range(1, 21, 1):\n",
    "        pfi = PolynomialFeatures(i)\n",
    "        designi = pfi.fit_transform(xtrain) \n",
    "        Wi = dot(pinv(designi), ytrain)\n",
    "        y_pred_train = dot(designi, Wi)\n",
    "        y_pred_test = dot(pfi.fit_transform(xtest), Wi)\n",
    "        train_err.append(np.log(mean_squared_error(ytrain, y_pred_train)))\n",
    "        test_err.append(np.log(mean_squared_error(ytest, y_pred_test)))\n",
    "    \n",
    "    plt.subplot(3, 3, graf_index)\n",
    "    plt.plot(range(1, 21, 1), train_err, \"r+\", label=\"train\")\n",
    "    plt.plot(range(1, 21, 1), test_err, \"b+\", label=\"test\")\n",
    "    plt.xlabel(label_list[graf_index-1])\n",
    "    plt.legend(loc=\"best\")\n",
    "    graf_index = graf_index + 1\n",
    "plt.show()"
   ]
  },
  {
   "cell_type": "markdown",
   "metadata": {},
   "source": [
    "### 4. Regularizirana regresija"
   ]
  },
  {
   "cell_type": "markdown",
   "metadata": {},
   "source": [
    "#### (a)\n",
    "\n",
    "U gornjim eksperimentima nismo koristili **regularizaciju**. Vratimo se najprije na primjer iz zadatka 1. Na primjerima iz tog zadatka izračunajte težine $\\mathbf{w}$ za polinomijalni regresijski model stupnja $d=3$ uz L2-regularizaciju (tzv. *ridge regression*), prema izrazu $\\mathbf{w}=(\\mathbf{\\Phi}^\\intercal\\mathbf{\\Phi}+\\lambda\\mathbf{I})^{-1}\\mathbf{\\Phi}^\\intercal\\mathbf{y}$. Napravite izračun težina za regularizacijske faktore $\\lambda=0$, $\\lambda=1$ i $\\lambda=10$ te usporedite dobivene težine.\n",
    "\n",
    "**Q:** Kojih je dimenzija matrica koju treba invertirati?\n",
    "\n",
    "**Q:** Po čemu se razlikuju dobivene težine i je li ta razlika očekivana? Obrazložite."
   ]
  },
  {
   "cell_type": "code",
   "execution_count": 59,
   "metadata": {},
   "outputs": [
    {
     "name": "stdout",
     "output_type": "stream",
     "text": [
      "Za faktor 0:\n",
      "[ 4.         -5.91666667  3.375      -0.45833333]\n",
      "Za faktor 1:\n",
      "[ 3.05696145 -0.69079365 -0.2831746   0.1445805 ]\n",
      "Za faktor 10:\n",
      "[ 2.49444184 -0.15897295 -0.13423067  0.0815601 ]\n"
     ]
    }
   ],
   "source": [
    "X = np.array([[0],[1],[2],[4]])\n",
    "y = np.array([4,1,2,5])\n",
    "poly = PolynomialFeatures(3)\n",
    "XD = poly.fit_transform(X)\n",
    "identity = np.eye(4)\n",
    "identity[0, 0] = 0\n",
    "gram = dot(XD.transpose(), XD)\n",
    "for i in [0, 1, 10]:\n",
    "    psi = inv(gram + i*identity)\n",
    "    psi = dot(psi, XD.transpose())\n",
    "    w = dot(psi, y)\n",
    "    print(\"Za faktor \"+str(i) + \":\")\n",
    "    print(w)"
   ]
  },
  {
   "cell_type": "markdown",
   "metadata": {},
   "source": [
    "#### (b)"
   ]
  },
  {
   "cell_type": "markdown",
   "metadata": {},
   "source": [
    "Proučite klasu [`Ridge`](http://scikit-learn.org/stable/modules/generated/sklearn.linear_model.Ridge.html#sklearn.linear_model.Ridge) iz modula [`sklearn.linear_model`](http://scikit-learn.org/stable/modules/classes.html#module-sklearn.linear_model), koja implementira L2-regularizirani regresijski model. Parametar $\\alpha$ odgovara parametru $\\lambda$. Primijenite model na istim primjerima kao u prethodnom zadatku i ispišite težine $\\mathbf{w}$ (atributi `coef_` i `intercept_`).\n",
    "\n",
    "**Q:** Jesu li težine identične onima iz zadatka 4a? Ako nisu, objasnite zašto je to tako i kako biste to popravili."
   ]
  },
  {
   "cell_type": "code",
   "execution_count": 51,
   "metadata": {
    "collapsed": true
   },
   "outputs": [],
   "source": [
    "from sklearn.linear_model import Ridge"
   ]
  },
  {
   "cell_type": "code",
   "execution_count": 52,
   "metadata": {},
   "outputs": [
    {
     "name": "stdout",
     "output_type": "stream",
     "text": [
      "4.0 [ 0.         -5.91666667  3.375      -0.45833333]\n",
      "3.05696145125 [ 0.         -0.69079365 -0.2831746   0.1445805 ]\n",
      "2.49444184312 [ 0.         -0.15897295 -0.13423067  0.0815601 ]\n"
     ]
    }
   ],
   "source": [
    "rl0 = Ridge(alpha=0.0)\n",
    "rl1 = Ridge(alpha=1.0)\n",
    "rl10 = Ridge(alpha=10.0)\n",
    "rl0.fit(XD, y)\n",
    "rl1.fit(XD, y)\n",
    "rl10.fit(XD, y)\n",
    "print(rl0.intercept_, rl0.coef_)\n",
    "print(rl1.intercept_, rl1.coef_)\n",
    "print(rl10.intercept_, rl10.coef_)"
   ]
  },
  {
   "cell_type": "markdown",
   "metadata": {},
   "source": [
    "### 5. Regularizirana polinomijalna regresija"
   ]
  },
  {
   "cell_type": "markdown",
   "metadata": {},
   "source": [
    "#### (a)\n",
    "\n",
    "Vratimo se na slučaj $N=50$ slučajno generiranih primjera iz zadatka 2. Trenirajte modele polinomijalne regresije $\\mathcal{H}_{\\lambda,d}$ za $\\lambda\\in\\{0,100\\}$ i $d\\in\\{2,10\\}$ (ukupno četiri modela). Skicirajte pripadne funkcije $h(\\mathbf{x})$ i primjere (na jednom grafikonu; preporučujemo koristiti `plot` unutar `for` petlje).\n",
    "\n",
    "**Q:** Jesu li rezultati očekivani? Obrazložite."
   ]
  },
  {
   "cell_type": "code",
   "execution_count": 53,
   "metadata": {},
   "outputs": [
    {
     "data": {
      "image/png": "[encoded data removed]",
      "text/plain": [
       "<matplotlib.figure.Figure at 0x7f673a8fc390>"
      ]
     },
     "metadata": {},
     "output_type": "display_data"
    }
   ],
   "source": [
    "X = make_instances(-5, 5, 50)\n",
    "y = np.array(list(make_labels(X, function, 200)))\n",
    "space = make_instances(-5, 5, 300)\n",
    "for l in [0.0, 100.0]:\n",
    "    for d in [2, 10]:\n",
    "        rl = Ridge(alpha=l)\n",
    "        pf = PolynomialFeatures(d)\n",
    "        xp = pf.fit_transform(X)\n",
    "        rl.fit(xp, y)\n",
    "        pspace = pf.fit_transform(space)\n",
    "        plt.plot(space, rl.predict(pspace), label=\"l=\"+str(l)+\",d=\"+str(d))\n",
    "plt.scatter(X, y)\n",
    "plt.legend(loc=\"best\")\n",
    "plt.show()\n",
    "        "
   ]
  },
  {
   "cell_type": "markdown",
   "metadata": {},
   "source": [
    "#### (b)\n",
    "\n",
    "Kao u zadataku 3b, razdvojite primjere na skup za učenje i skup za ispitivanje u omjeru 1:1. Prikažite krivulje logaritama pogreške učenja i ispitne pogreške u ovisnosti za model $\\mathcal{H}_{d=20,\\lambda}$, podešavajući faktor regularizacije $\\lambda$ u rasponu $\\lambda\\in\\{0,1,\\dots,50\\}$.\n",
    "\n",
    "**Q:** Kojoj strani na grafikonu odgovara područje prenaučenosti, a kojoj podnaučenosti? Zašto?\n",
    "\n",
    "**Q:** Koju biste vrijednosti za $\\lambda$ izabrali na temelju ovih grafikona i zašto?\n"
   ]
  },
  {
   "cell_type": "code",
   "execution_count": 62,
   "metadata": {},
   "outputs": [
    {
     "name": "stderr",
     "output_type": "stream",
     "text": [
      "/home/nameless/anaconda3/lib/python3.6/site-packages/scipy/linalg/basic.py:223: RuntimeWarning: scipy.linalg.solve\n",
      "Ill-conditioned matrix detected. Result is not guaranteed to be accurate.\n",
      "Reciprocal condition number: 3.655385188359398e-17\n",
      "  ' condition number: {}'.format(rcond), RuntimeWarning)\n",
      "/home/nameless/anaconda3/lib/python3.6/site-packages/scipy/linalg/basic.py:223: RuntimeWarning: scipy.linalg.solve\n",
      "Ill-conditioned matrix detected. Result is not guaranteed to be accurate.\n",
      "Reciprocal condition number: 4.3540819506211445e-17\n",
      "  ' condition number: {}'.format(rcond), RuntimeWarning)\n",
      "/home/nameless/anaconda3/lib/python3.6/site-packages/scipy/linalg/basic.py:223: RuntimeWarning: scipy.linalg.solve\n",
      "Ill-conditioned matrix detected. Result is not guaranteed to be accurate.\n",
      "Reciprocal condition number: 5.034099377938488e-17\n",
      "  ' condition number: {}'.format(rcond), RuntimeWarning)\n",
      "/home/nameless/anaconda3/lib/python3.6/site-packages/scipy/linalg/basic.py:223: RuntimeWarning: scipy.linalg.solve\n",
      "Ill-conditioned matrix detected. Result is not guaranteed to be accurate.\n",
      "Reciprocal condition number: 6.097432277078375e-17\n",
      "  ' condition number: {}'.format(rcond), RuntimeWarning)\n",
      "/home/nameless/anaconda3/lib/python3.6/site-packages/scipy/linalg/basic.py:223: RuntimeWarning: scipy.linalg.solve\n",
      "Ill-conditioned matrix detected. Result is not guaranteed to be accurate.\n",
      "Reciprocal condition number: 6.90650301588651e-17\n",
      "  ' condition number: {}'.format(rcond), RuntimeWarning)\n",
      "/home/nameless/anaconda3/lib/python3.6/site-packages/scipy/linalg/basic.py:223: RuntimeWarning: scipy.linalg.solve\n",
      "Ill-conditioned matrix detected. Result is not guaranteed to be accurate.\n",
      "Reciprocal condition number: 7.866884608194137e-17\n",
      "  ' condition number: {}'.format(rcond), RuntimeWarning)\n",
      "/home/nameless/anaconda3/lib/python3.6/site-packages/scipy/linalg/basic.py:223: RuntimeWarning: scipy.linalg.solve\n",
      "Ill-conditioned matrix detected. Result is not guaranteed to be accurate.\n",
      "Reciprocal condition number: 8.140435575538402e-17\n",
      "  ' condition number: {}'.format(rcond), RuntimeWarning)\n",
      "/home/nameless/anaconda3/lib/python3.6/site-packages/scipy/linalg/basic.py:223: RuntimeWarning: scipy.linalg.solve\n",
      "Ill-conditioned matrix detected. Result is not guaranteed to be accurate.\n",
      "Reciprocal condition number: 8.434599239276405e-17\n",
      "  ' condition number: {}'.format(rcond), RuntimeWarning)\n",
      "/home/nameless/anaconda3/lib/python3.6/site-packages/scipy/linalg/basic.py:223: RuntimeWarning: scipy.linalg.solve\n",
      "Ill-conditioned matrix detected. Result is not guaranteed to be accurate.\n",
      "Reciprocal condition number: 9.420541752710177e-17\n",
      "  ' condition number: {}'.format(rcond), RuntimeWarning)\n",
      "/home/nameless/anaconda3/lib/python3.6/site-packages/scipy/linalg/basic.py:223: RuntimeWarning: scipy.linalg.solve\n",
      "Ill-conditioned matrix detected. Result is not guaranteed to be accurate.\n",
      "Reciprocal condition number: 9.233163712811444e-17\n",
      "  ' condition number: {}'.format(rcond), RuntimeWarning)\n",
      "/home/nameless/anaconda3/lib/python3.6/site-packages/scipy/linalg/basic.py:223: RuntimeWarning: scipy.linalg.solve\n",
      "Ill-conditioned matrix detected. Result is not guaranteed to be accurate.\n",
      "Reciprocal condition number: 1.0054586545718794e-16\n",
      "  ' condition number: {}'.format(rcond), RuntimeWarning)\n",
      "/home/nameless/anaconda3/lib/python3.6/site-packages/scipy/linalg/basic.py:223: RuntimeWarning: scipy.linalg.solve\n",
      "Ill-conditioned matrix detected. Result is not guaranteed to be accurate.\n",
      "Reciprocal condition number: 9.890674481369755e-17\n",
      "  ' condition number: {}'.format(rcond), RuntimeWarning)\n",
      "/home/nameless/anaconda3/lib/python3.6/site-packages/scipy/linalg/basic.py:223: RuntimeWarning: scipy.linalg.solve\n",
      "Ill-conditioned matrix detected. Result is not guaranteed to be accurate.\n",
      "Reciprocal condition number: 9.951913301962525e-17\n",
      "  ' condition number: {}'.format(rcond), RuntimeWarning)\n",
      "/home/nameless/anaconda3/lib/python3.6/site-packages/scipy/linalg/basic.py:223: RuntimeWarning: scipy.linalg.solve\n",
      "Ill-conditioned matrix detected. Result is not guaranteed to be accurate.\n",
      "Reciprocal condition number: 1.0577095427524913e-16\n",
      "  ' condition number: {}'.format(rcond), RuntimeWarning)\n"
     ]
    },
    {
     "data": {
      "image/png": "[encoded data removed]",
      "text/plain": [
       "<matplotlib.figure.Figure at 0x7f673a8fc710>"
      ]
     },
     "metadata": {},
     "output_type": "display_data"
    }
   ],
   "source": [
    "X = make_instances(-5, 5, 50)\n",
    "y = np.array(list(make_labels(X, function, 200)))\n",
    "X_train, X_test, y_train, y_test = train_test_split(X, y, test_size=0.5)\n",
    "pf = PolynomialFeatures(20)\n",
    "train_design = pf.fit_transform(X_train)\n",
    "train_err = []\n",
    "test_err = []\n",
    "for l in range(0, 51):\n",
    "    rl = Ridge(alpha=l)\n",
    "    rl.fit(train_design, y_train)\n",
    "    y_pred_train = rl.predict(train_design)\n",
    "    y_pred_test = rl.predict(pf.fit_transform(X_test))\n",
    "    train_err.append(np.log(mean_squared_error(y_train, y_pred_train)))\n",
    "    test_err.append(np.log(mean_squared_error(y_test, y_pred_test)))\n",
    "plt.plot(range(0, 51), train_err, \"r\", label=\"Train error\")\n",
    "plt.plot(range(0, 51), test_err, \"b\", label=\"Test error\")\n",
    "plt.xlabel(\"stupanj regularizacije\")\n",
    "plt.ylabel(\"log(pogreška)\")\n",
    "plt.legend(loc=\"best\")\n",
    "plt.show()  "
   ]
  },
  {
   "cell_type": "markdown",
   "metadata": {},
   "source": [
    "### 6. L1-regularizacija i L2-regularizacija"
   ]
  },
  {
   "cell_type": "markdown",
   "metadata": {},
   "source": [
    "Svrha regularizacije jest potiskivanje težina modela $\\mathbf{w}$ prema nuli, kako bi model bio što jednostavniji. Složenost modela može se okarakterizirati normom pripadnog vektora težina $\\mathbf{w}$, i to tipično L2-normom ili L1-normom. Za jednom trenirani model možemo izračunati i broj ne-nul značajki, ili L0-normu, pomoću sljedeće funkcije:"
   ]
  },
  {
   "cell_type": "code",
   "execution_count": 68,
   "metadata": {
    "collapsed": true
   },
   "outputs": [],
   "source": [
    "def nonzeroes(coef, tol=1e-6): \n",
    "    return len(coef) - len(coef[np.isclose(0, coef, atol=tol)])"
   ]
  },
  {
   "cell_type": "markdown",
   "metadata": {},
   "source": [
    "#### (a)\n",
    "\n",
    "Za ovaj zadatak upotrijebite skup za učenje i skup za testiranje iz zadatka 3b. Trenirajte modele **L2-regularizirane** polinomijalne regresije stupnja $d=20$, mijenjajući hiperparametar $\\lambda$ u rasponu $\\{1,2,\\dots,100\\}$. Za svaki od treniranih modela izračunajte L{0,1,2}-norme vektora težina $\\mathbf{w}$ te ih prikažite kao funkciju od $\\lambda$.\n",
    "\n",
    "**Q:** Objasnite oblik obiju krivulja. Hoće li krivulja za $\\|\\mathbf{w}\\|_2$ doseći nulu? Zašto? Je li to problem? Zašto?\n",
    "\n",
    "**Q:** Za $\\lambda=100$, koliki je postotak težina modela jednak nuli, odnosno koliko je model rijedak?"
   ]
  },
  {
   "cell_type": "code",
   "execution_count": 86,
   "metadata": {},
   "outputs": [
    {
     "data": {
      "image/png": "[encoded data removed]",
      "text/plain": [
       "<matplotlib.figure.Figure at 0x7f673aa309b0>"
      ]
     },
     "metadata": {},
     "output_type": "display_data"
    }
   ],
   "source": [
    "from sklearn.linear_model import Ridge\n",
    "from sklearn.linear_model import Lasso\n",
    "\n",
    "X = make_instances(-5, 5, 50)\n",
    "y = np.array(list(make_labels(X, function, 200)))\n",
    "pf = PolynomialFeatures(20)\n",
    "design = pf.fit_transform(X)\n",
    "l2norms = []\n",
    "l1norms = []\n",
    "l0norms = []\n",
    "for l in range(1, 101):\n",
    "    rl = Ridge(alpha=l)\n",
    "    rl.fit(design, y)\n",
    "    l2norms.append(norm(rl.coef_[0]))\n",
    "    l1norms.append(norm(rl.coef_[0], 1))\n",
    "    l0norms.append(norm(rl.coef_[0], 0))\n",
    "plt.plot(range(1, 101), l0norms, label=\"L0\")\n",
    "plt.plot(range(1, 101), l1norms, label=\"L1\")\n",
    "plt.plot(range(1, 101), l2norms, label=\"L2\")\n",
    "plt.xlabel(\"lambda\")\n",
    "plt.ylabel(\"norma\")\n",
    "plt.legend(loc=\"best\")\n",
    "plt.show()  "
   ]
  },
  {
   "cell_type": "markdown",
   "metadata": {},
   "source": [
    "#### (b)"
   ]
  },
  {
   "cell_type": "markdown",
   "metadata": {},
   "source": [
    "Glavna prednost L1-regularizirane regresije (ili *LASSO regression*) nad L2-regulariziranom regresijom jest u tome što L1-regularizirana regresija rezultira **rijetkim modelima** (engl. *sparse models*), odnosno modelima kod kojih su mnoge težine pritegnute na nulu. Pokažite da je to doista tako, ponovivši gornji eksperiment s **L1-regulariziranom** regresijom, implementiranom u klasi  [`Lasso`](http://scikit-learn.org/stable/modules/generated/sklearn.linear_model.Lasso.html) u modulu [`sklearn.linear_model`](http://scikit-learn.org/stable/modules/classes.html#module-sklearn.linear_model)."
   ]
  },
  {
   "cell_type": "code",
   "execution_count": 89,
   "metadata": {},
   "outputs": [
    {
     "name": "stderr",
     "output_type": "stream",
     "text": [
      "/home/nameless/anaconda3/lib/python3.6/site-packages/sklearn/linear_model/coordinate_descent.py:491: ConvergenceWarning: Objective did not converge. You might want to increase the number of iterations. Fitting data with very small alpha may cause precision problems.\n",
      "  ConvergenceWarning)\n"
     ]
    },
    {
     "data": {
      "image/png": "[encoded data removed]",
      "text/plain": [
       "<matplotlib.figure.Figure at 0x7f6739c1c198>"
      ]
     },
     "metadata": {},
     "output_type": "display_data"
    }
   ],
   "source": [
    "l2norms = []\n",
    "l1norms = []\n",
    "l0norms = []\n",
    "for l in range(1, 101):\n",
    "    lasso = Lasso(alpha=l)\n",
    "    lasso.fit(design, y)\n",
    "    l2norms.append(norm(lasso.coef_))\n",
    "    l1norms.append(norm(lasso.coef_, 1))\n",
    "    l0norms.append(norm(lasso.coef_, 0))\n",
    "plt.plot(range(1, 101), l0norms, label=\"L0\")\n",
    "plt.plot(range(1, 101), l1norms, label=\"L1\")\n",
    "plt.plot(range(1, 101), l2norms, label=\"L2\")\n",
    "plt.xlabel(\"lambda\")\n",
    "plt.ylabel(\"norma\")\n",
    "plt.legend(loc=\"best\")\n",
    "plt.show()"
   ]
  },
  {
   "cell_type": "markdown",
   "metadata": {},
   "source": [
    "### 7. Značajke različitih skala"
   ]
  },
  {
   "cell_type": "markdown",
   "metadata": {},
   "source": [
    "Često se u praksi možemo susreti sa podatcima u kojima sve značajke nisu jednakih magnituda. Primjer jednog takvog skupa je regresijski skup podataka `grades` u kojem se predviđa prosjek ocjena studenta na studiju (1--5) na temelju dvije značajke: bodova na prijamnom ispitu (1--3000) i prosjeka ocjena u srednjoj školi. Prosjek ocjena na studiju izračunat je kao težinska suma ove dvije značajke uz dodani šum.\n",
    "\n",
    "Koristite sljedeći kôd kako biste generirali ovaj skup podataka."
   ]
  },
  {
   "cell_type": "code",
   "execution_count": 125,
   "metadata": {
    "collapsed": true
   },
   "outputs": [],
   "source": [
    "n_data_points = 500\n",
    "np.random.seed(69)\n",
    "\n",
    "# Generiraj podatke o bodovima na prijamnom ispitu koristeći normalnu razdiobu i ograniči ih na interval [1, 3000].\n",
    "exam_score = np.random.normal(loc=1500.0, scale = 500.0, size = n_data_points) \n",
    "exam_score = np.round(exam_score)\n",
    "exam_score[exam_score > 3000] = 3000\n",
    "exam_score[exam_score < 0] = 0\n",
    "\n",
    "# Generiraj podatke o ocjenama iz srednje škole koristeći normalnu razdiobu i ograniči ih na interval [1, 5].\n",
    "grade_in_highschool = np.random.normal(loc=3, scale = 2.0, size = n_data_points)\n",
    "grade_in_highschool[grade_in_highschool > 5] = 5\n",
    "grade_in_highschool[grade_in_highschool < 1] = 1\n",
    "\n",
    "# Matrica dizajna.\n",
    "grades_X = np.array([exam_score,grade_in_highschool]).T\n",
    "\n",
    "# Završno, generiraj izlazne vrijednosti.\n",
    "rand_noise = np.random.normal(loc=0.0, scale = 0.5, size = n_data_points)\n",
    "exam_influence = 0.9\n",
    "grades_y = ((exam_score / 3000.0) * (exam_influence) + (grade_in_highschool / 5.0) \\\n",
    "            * (1.0 - exam_influence)) * 5.0 + rand_noise\n",
    "grades_y[grades_y < 1] = 1\n",
    "grades_y[grades_y > 5] = 5"
   ]
  },
  {
   "cell_type": "markdown",
   "metadata": {},
   "source": [
    "**a)**"
   ]
  },
  {
   "cell_type": "markdown",
   "metadata": {},
   "source": [
    "Iscrtajte ovisnost ciljne vrijednosti (y-os) o prvoj i o drugoj značajki (x-os). Iscrtajte dva odvojena grafa."
   ]
  },
  {
   "cell_type": "code",
   "execution_count": 126,
   "metadata": {},
   "outputs": [
    {
     "data": {
      "image/png": "[encoded data removed]",
      "text/plain": [
       "<matplotlib.figure.Figure at 0x7f673a20f6d8>"
      ]
     },
     "metadata": {},
     "output_type": "display_data"
    }
   ],
   "source": [
    "plt.subplot(1,2,1)\n",
    "plt.scatter(exam_score, grades_y)\n",
    "plt.xlabel(\"exam_score\")\n",
    "plt.subplot(1,2,2)\n",
    "plt.scatter(grade_in_highschool, grades_y)\n",
    "plt.xlabel(\"grade_in_highschool\")\n",
    "\n",
    "plt.show()"
   ]
  },
  {
   "cell_type": "markdown",
   "metadata": {},
   "source": [
    "**b)**"
   ]
  },
  {
   "cell_type": "markdown",
   "metadata": {},
   "source": [
    "Naučite model L2-regularizirane regresije ($\\lambda = 0.01$), na podacima `grades_X` i `grades_y`:"
   ]
  },
  {
   "cell_type": "code",
   "execution_count": 127,
   "metadata": {},
   "outputs": [
    {
     "name": "stdout",
     "output_type": "stream",
     "text": [
      "0.150611795758 [ 0.00141497  0.09477276]\n"
     ]
    }
   ],
   "source": [
    "ridge = Ridge(alpha=0.01)\n",
    "ridge.fit(grades_X, grades_y)\n",
    "print(ridge.intercept_, ridge.coef_)"
   ]
  },
  {
   "cell_type": "markdown",
   "metadata": {},
   "source": [
    "Sada ponovite gornji eksperiment, ali prvo skalirajte podatke `grades_X` i `grades_y`. Za tu svrhu, koristite [`StandardScaler`](http://scikit-learn.org/stable/modules/generated/sklearn.preprocessing.StandardScaler.html)."
   ]
  },
  {
   "cell_type": "code",
   "execution_count": 128,
   "metadata": {},
   "outputs": [
    {
     "data": {
      "image/png": "[encoded data removed]",
      "text/plain": [
       "<matplotlib.figure.Figure at 0x7f673a15f828>"
      ]
     },
     "metadata": {},
     "output_type": "display_data"
    }
   ],
   "source": [
    "from sklearn.preprocessing import StandardScaler\n",
    "\n",
    "scaler = StandardScaler()\n",
    "scaled_X = scaler.fit_transform(grades_X, grades_y)\n",
    "plt.subplot(1,2,1)\n",
    "plt.scatter(scaled_X.T[0], grades_y)\n",
    "plt.xlabel(\"exam_score\")\n",
    "plt.subplot(1,2,2)\n",
    "plt.scatter(scaled_X.T[1], grades_y)\n",
    "plt.xlabel(\"grade_in_highschool\")\n",
    "\n",
    "plt.show()"
   ]
  },
  {
   "cell_type": "markdown",
   "metadata": {},
   "source": [
    "**Q:** Gledajući grafikone iz podzadatka (a), koja značajka bi trebala imati veću magnitudu, odnosno važnost pri predikciji prosjeka na studiju? Odgovaraju li težine Vašoj intuiciji? Objasnite.  "
   ]
  },
  {
   "cell_type": "markdown",
   "metadata": {},
   "source": [
    "### 8. Multikolinearnost i kondicija matrice"
   ]
  },
  {
   "cell_type": "markdown",
   "metadata": {},
   "source": [
    "**a)**"
   ]
  },
  {
   "cell_type": "markdown",
   "metadata": {},
   "source": [
    "Izradite skup podataka `grades_X_fixed_colinear` tako što ćete u skupu `grades_X_fixed` iz\n",
    "zadatka 7b duplicirati zadnji stupac (ocjenu iz srednje škole). Time smo efektivno uveli savršenu multikolinearnost."
   ]
  },
  {
   "cell_type": "code",
   "execution_count": 129,
   "metadata": {},
   "outputs": [
    {
     "data": {
      "text/plain": [
       "matrix([[ 0.95063817, -0.78607869, -0.78607869],\n",
       "        [-0.50343434, -0.50193004, -0.50193004],\n",
       "        [ 1.18596832, -0.52213172, -0.52213172],\n",
       "        ..., \n",
       "        [-0.31593552,  0.80074234,  0.80074234],\n",
       "        [ 0.81288393,  1.24783236,  1.24783236],\n",
       "        [-0.01938126,  1.21729714,  1.21729714]])"
      ]
     },
     "execution_count": 129,
     "metadata": {},
     "output_type": "execute_result"
    }
   ],
   "source": [
    "row = np.matrix(scaled_X[:, 1]).transpose()\n",
    "grades_X_fixed_colinear = np.hstack([scaled_X, row])\n",
    "grades_X_fixed_colinear"
   ]
  },
  {
   "cell_type": "markdown",
   "metadata": {},
   "source": [
    "Ponovno, naučite na ovom skupu L2-regularizirani model regresije ($\\lambda = 0.01$)."
   ]
  },
  {
   "cell_type": "code",
   "execution_count": 130,
   "metadata": {},
   "outputs": [
    {
     "name": "stdout",
     "output_type": "stream",
     "text": [
      "2.50303163599 [ 0.73954673  0.06870839  0.06870839]\n"
     ]
    }
   ],
   "source": [
    "ridge = Ridge(alpha=0.01)\n",
    "ridge.fit(grades_X_fixed_colinear, grades_y)\n",
    "print(ridge.intercept_, ridge.coef_)"
   ]
  },
  {
   "cell_type": "markdown",
   "metadata": {},
   "source": [
    "**Q:** Usporedite iznose težina s onima koje ste dobili u zadatku *7b*. Što se dogodilo?"
   ]
  },
  {
   "cell_type": "markdown",
   "metadata": {},
   "source": [
    "**b)**"
   ]
  },
  {
   "cell_type": "markdown",
   "metadata": {},
   "source": [
    "Slučajno uzorkujte 50% elemenata iz skupa `grades_X_fixed_colinear` i naučite dva modela L2-regularizirane regresije, jedan s $\\lambda=0.01$, a jedan s $\\lambda=1000$. Ponovite ovaj pokus 10 puta (svaki put s drugim podskupom od 50% elemenata).  Za svaki model, ispišite dobiveni vektor težina u svih 10 ponavljanja te ispišite standardnu devijaciju vrijednosti svake od težina (ukupno šest standardnih devijacija, svaka dobivena nad 10 vrijednosti)."
   ]
  },
  {
   "cell_type": "code",
   "execution_count": 136,
   "metadata": {},
   "outputs": [
    {
     "name": "stdout",
     "output_type": "stream",
     "text": [
      "iteracija: 0\n",
      "Vektor težina za lambda=0.01: 2.5186175164 [ 0.75817742  0.06696111  0.06696111]\n",
      "Vektor težina za lambda=1000: 2.48790467816 [ 0.1517084  0.0312319  0.0312319]\n",
      "iteracija: 1\n",
      "Vektor težina za lambda=0.01: 2.48263103233 [ 0.72231327  0.08043205  0.08043205]\n",
      "Vektor težina za lambda=1000: 2.49320375893 [ 0.13995648  0.03369131  0.03369131]\n",
      "iteracija: 2\n",
      "Vektor težina za lambda=0.01: 2.49894911269 [ 0.73878472  0.07090997  0.07090997]\n",
      "Vektor težina za lambda=1000: 2.43379865106 [ 0.14909409  0.04008803  0.04008803]\n",
      "iteracija: 3\n",
      "Vektor težina za lambda=0.01: 2.5153499505 [ 0.75446762  0.08295     0.08295   ]\n",
      "Vektor težina za lambda=1000: 2.46127523368 [ 0.15089884  0.03775901  0.03775901]\n",
      "iteracija: 4\n",
      "Vektor težina za lambda=0.01: 2.50254948549 [ 0.73225254  0.06977427  0.06977427]\n",
      "Vektor težina za lambda=1000: 2.46864002058 [ 0.14789127  0.02980421  0.02980421]\n",
      "iteracija: 5\n",
      "Vektor težina za lambda=0.01: 2.47767081576 [ 0.73136942  0.07465832  0.07465832]\n",
      "Vektor težina za lambda=1000: 2.49389692712 [ 0.15360893  0.02830982  0.02830982]\n",
      "iteracija: 6\n",
      "Vektor težina za lambda=0.01: 2.50416951887 [ 0.74074211  0.06666844  0.06666844]\n",
      "Vektor težina za lambda=1000: 2.50043809701 [ 0.14614224  0.03212495  0.03212495]\n",
      "iteracija: 7\n",
      "Vektor težina za lambda=0.01: 2.50357672409 [ 0.71292117  0.07171183  0.07171183]\n",
      "Vektor težina za lambda=1000: 2.49984000672 [ 0.14145988  0.03179851  0.03179851]\n",
      "iteracija: 8\n",
      "Vektor težina za lambda=0.01: 2.52456435434 [ 0.70815221  0.07374352  0.07374352]\n",
      "Vektor težina za lambda=1000: 2.54209312355 [ 0.14858973  0.03398123  0.03398123]\n",
      "iteracija: 9\n",
      "Vektor težina za lambda=0.01: 2.50430984643 [ 0.73173793  0.0715538   0.0715538 ]\n",
      "Vektor težina za lambda=1000: 2.49520114265 [ 0.1414904   0.03401576  0.03401576]\n",
      "Standardna devijacija za w0 (lambda=0.01): 0.0139189446485\n",
      "Standardna devijacija za w0 (lambda=1000): 0.0271295215601\n",
      "Standardna devijacija za w1 (lambda=0.01): 0.0152566990571\n",
      "Standardna devijacija za w1 (lambda=1000): 0.004473026961\n",
      "Standardna devijacija za w2 (lambda=0.01): 0.00502574816376\n",
      "Standardna devijacija za w2 (lambda=1000): 0.00334844036324\n"
     ]
    }
   ],
   "source": [
    "std_w0_1 = []\n",
    "std_w1_1 = []\n",
    "std_w2_1 = []\n",
    "std_w0_2 = []\n",
    "std_w1_2 = []\n",
    "std_w2_2 = []\n",
    "for i in range(0, 10):\n",
    "    gradesx1, gradesx2, gradesy1, gradesy2 = train_test_split(grades_X_fixed_colinear, grades_y, test_size=0.5)\n",
    "    ridge1 = Ridge(alpha=0.01)\n",
    "    ridge2 = Ridge(alpha=1000.0)\n",
    "    ridge1.fit(gradesx1, gradesy1)\n",
    "    ridge2.fit(gradesx1, gradesy1)\n",
    "    print(\"iteracija: \"+str(i))\n",
    "    std_w0_1.append(ridge1.intercept_)\n",
    "    std_w0_2.append(ridge2.intercept_)\n",
    "    std_w1_1.append(ridge1.coef_[0])\n",
    "    std_w1_2.append(ridge2.coef_[0])\n",
    "    std_w2_1.append(ridge1.coef_[1])\n",
    "    std_w2_2.append(ridge2.coef_[1])\n",
    "    print(\"Vektor težina za lambda=\"+str(0.01)+\": \"+str(ridge1.intercept_)+\" \"+str(ridge1.coef_))\n",
    "    print(\"Vektor težina za lambda=\"+str(1000)+\": \"+str(ridge2.intercept_)+\" \"+str(ridge2.coef_))\n",
    "\n",
    "print(\"Standardna devijacija za w0 (lambda=0.01): \"+ str(np.std(std_w0_1)))\n",
    "print(\"Standardna devijacija za w0 (lambda=1000): \"+ str(np.std(std_w0_2)))\n",
    "print(\"Standardna devijacija za w1 (lambda=0.01): \"+ str(np.std(std_w1_1)))\n",
    "print(\"Standardna devijacija za w1 (lambda=1000): \"+ str(np.std(std_w1_2)))\n",
    "print(\"Standardna devijacija za w2 (lambda=0.01): \"+ str(np.std(std_w2_1)))\n",
    "print(\"Standardna devijacija za w2 (lambda=1000): \"+ str(np.std(std_w2_2)))"
   ]
  },
  {
   "cell_type": "markdown",
   "metadata": {},
   "source": [
    "**Q:** Kako regularizacija utječe na stabilnost težina?  \n",
    "**Q:** Jesu li koeficijenti jednakih magnituda kao u prethodnom pokusu? Objasnite zašto."
   ]
  },
  {
   "cell_type": "markdown",
   "metadata": {},
   "source": [
    "**c)**"
   ]
  },
  {
   "cell_type": "markdown",
   "metadata": {},
   "source": [
    "Koristeći [`numpy.linalg.cond`](https://docs.scipy.org/doc/numpy-1.13.0/reference/generated/numpy.linalg.cond.html) izračunajte kondicijski broj matrice $\\mathbf{\\Phi}^\\intercal\\mathbf{\\Phi}+\\lambda\\mathbf{I}$, gdje je $\\mathbf{\\Phi}$ matrica dizajna (`grades_fixed_X_colinear`). Ponovite i za $\\lambda=0.01$ i za $\\lambda=10$."
   ]
  },
  {
   "cell_type": "code",
   "execution_count": 140,
   "metadata": {},
   "outputs": [
    {
     "name": "stdout",
     "output_type": "stream",
     "text": [
      "Kondicijski broj uz lambda=0.01: 100542.866535\n",
      "Kondicijski broj uz lambda=10: 101.541866535\n"
     ]
    }
   ],
   "source": [
    "gram = dot(grades_X_fixed_colinear.transpose(), grades_X_fixed_colinear)\n",
    "identity = np.eye(3)\n",
    "print(\"Kondicijski broj uz lambda=0.01: \" + str(cond(gram + 0.01*identity)))\n",
    "print(\"Kondicijski broj uz lambda=10: \" + str(cond(gram + 10*identity)))"
   ]
  },
  {
   "cell_type": "markdown",
   "metadata": {},
   "source": [
    "**Q:** Kako regularizacija utječe na kondicijski broj matrice $\\mathbf{\\Phi}^\\intercal\\mathbf{\\Phi}+\\lambda\\mathbf{I}$?  "
   ]
  }
 ],
 "metadata": {
  "anaconda-cloud": {},
  "kernelspec": {
   "display_name": "Python 3",
   "language": "python",
   "name": "python3"
  },
  "language_info": {
   "codemirror_mode": {
    "name": "ipython",
    "version": 3
   },
   "file_extension": ".py",
   "mimetype": "text/x-python",
   "name": "python",
   "nbconvert_exporter": "python",
   "pygments_lexer": "ipython3",
   "version": "3.6.3"
  }
 },
 "nbformat": 4,
 "nbformat_minor": 1
}
